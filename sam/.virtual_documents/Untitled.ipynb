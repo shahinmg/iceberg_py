import xarray as xr


p = '/media/laserglaciers/QAANAAQ/bedmachine_v5/BedMachineGreenland-v5.nc'
bed = xr.open_dataset(p)


bed



