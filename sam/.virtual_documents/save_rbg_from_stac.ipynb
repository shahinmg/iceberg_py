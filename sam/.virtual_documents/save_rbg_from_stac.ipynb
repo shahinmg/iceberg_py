import dask.distributed
import dask.utils
import numpy as np
import planetary_computer as pc
import xarray as xr
from IPython.display import display
from pystac_client import Client
import geopandas as gpd
import requests
from pystac.extensions.eo import EOExtension as eo
from odc.stac import configure_rio, stac_load

import pickle
from contextlib import contextmanager  
import rasterio
from rasterio import Affine, MemoryFile
from rasterio.enums import Resampling
from rasterio.windows import Window
from rasterio.features import geometry_mask, geometry_window
from rasterio.plot import show, reshape_as_raster, reshape_as_image


stac_list_path = '/media/laserglaciers/upernavik/iceberg_py/sam/stac_nc/kanger_netcdf.nc'
# with open(stac_list_path, 'rb') as src:
#     stac_list = pickle.load(src)
# grid_path = '/media/laserglaciers/upernavik/iceberg_py/geoms/helheim/melange_box_grid_utm24.shp'
# grid = gpd.read_file(grid_path)

image_stac = xr.open_dataset(stac_list_path)






client = dask.distributed.Client()
configure_rio(cloud_defaults=True, client=client)
display(client)


resolution = 10
SHRINK = 1
if client.cluster.workers[0].memory_manager.memory_limit < dask.utils.parse_bytes("4G"):
    SHRINK = 8  # running on Binder with 2Gb RAM

if SHRINK > 1:
    resolution = resolution * SHRINK

image_stac = stac_load(
    stac_list,
    bands=["red", "green", "blue"],
    resolution=resolution,
    chunks={},
    patch_url=pc.sign,
    # force dtype and nodata
    dtype="uint16",
    nodata=0,
    geopolygon=grid
)


image_stac.red.shape


#https://rasterio.groups.io/g/main/topic/memoryfile_workflow_should/32634761
@contextmanager
def mem_raster(data, **profile):
    with MemoryFile() as memfile:
        with memfile.open(**profile) as dataset_writer:
            dataset_writer.write(data)
 
        with memfile.open() as dataset_reader:
            yield dataset_reader



affine = image_stac.odc.affine
profile = {'driver':'GTiff', 'count':3, 
                      'transform':affine, 'crs':32624, 
                      'width':image_stac.red.shape[2], 'height': image_stac.red.shape[1], 
                      'dtype':np.float64
            }
rbg_path = '/media/laserglaciers/upernavik/iceberg_py/infiles/helheim/rbg/'



for time in image_stac.time:
    rgb = np.dstack((image_stac.red.sel(time=time).values,
                     image_stac.green.sel(time=time).values,
                     image_stac.blue.sel(time=time).values))
    rgb_raster = reshape_as_raster(rgb)
    date = str(image_stac.red.sel(time=time).time.dt.date.data)
    with mem_raster(rgb_raster, **profile) as ds:
        ds_read = ds.read([1,2,3])

        with rasterio.open(f'{rbg_path}{date}.tif', mode='w', **profile) as dst:
            dst.write(ds_read)

        # show(ds.read([1,2,3]),adjust=True)

    


image_stac.time[:1]



