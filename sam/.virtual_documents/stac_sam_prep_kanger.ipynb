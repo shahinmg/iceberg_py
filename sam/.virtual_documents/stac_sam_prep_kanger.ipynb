import dask.distributed
import dask.utils
import numpy as np
import planetary_computer as pc
import xarray as xr
from IPython.display import display
from pystac_client import Client
import geopandas as gpd
import requests
from shapely.geometry import box

from odc.stac import configure_rio, stac_load
%matplotlib inline

import matplotlib.pyplot as plt
import numpy as np



client = dask.distributed.Client()
configure_rio(cloud_defaults=True, client=client)
display(client)


catalog = Client.open("https://planetarycomputer.microsoft.com/api/stac/v1",modifier=pc.sign_inplace)
kanger_mel = gpd.read_file('/media/laserglaciers/upernavik/iceberg_py/geoms/kanger/kanger_box_4326.gpkg')
minx, miny, maxx, maxy = kanger_mel.geometry.total_bounds
kbox = box(minx, miny, maxx, maxy)

query = catalog.search(
    collections = ["sentinel-2-l2a"],
    datetime = "2016-07",
    query = {"s2:mgrs_tile": dict(eq="25WES"),
        "eo:cloud_cover": {"lt": 10}})

items = list(query.items())
print(f"Found: {len(items):d} datasets")


resolution = 10
SHRINK = 1
if client.cluster.workers[0].memory_manager.memory_limit < dask.utils.parse_bytes("4G"):
    SHRINK = 8  # running on Binder with 2Gb RAM

if SHRINK > 1:
    resolution = resolution * SHRINK

xx = stac_load(
    items,
    chunks={},
    bands=["red", "green", "blue", "nir"],
    patch_url=pc.sign,
    resolution=resolution,
    # force dtype and nodata
    dtype="uint16",
    nodata=0,
    geopolygon=kanger_mel
)

print(f"Bands: {','.join(list(xx.data_vars))}")
display(xx)


def stac_query(date):
    query = catalog.search(
    collections = ["sentinel-2-l2a"],
    datetime = date,
    query = {"s2:mgrs_tile": dict(eq="25WES"),
        "eo:cloud_cover": {"lt": 10}})

    items = list(query.items())
    print(f"Found: {len(items):d} datasets")

    return items

def stac_load_help(items):
    xx = stac_load(
    items,
    chunks={},
    bands=["red", "green", "blue", "nir"],
    patch_url=pc.sign,
    resolution=resolution,
    # force dtype and nodata
    dtype="uint16",
    nodata=0,
    geopolygon=kanger_mel
    )

    return xx


time=2
rgb = np.dstack((xx.red.isel(time=time).values,
                 xx.green.isel(time=time).values,
                 xx.blue.isel(time=time).values))
# Normalize the RGB data
rgb_norm = rgb / rgb.max()

# Display the normalized RGB image using plt.imshow
plt.imshow(rgb_norm)


time=2


def plot_rbg(time, image_stac):
    rgb = np.dstack((image_stac.red.isel(time=time).values,
                     image_stac.green.isel(time=time).values,
                     image_stac.blue.isel(time=time).values))
    # Normalize the RGB data
    rgb_norm = rgb / rgb.max()
    
    # Display the normalized RGB image using plt.imshow
    plt.imshow(rgb_norm)
    



items


items[-3]
items2keep = []


items2keep.append(items[-3])
items2keep


items2 = stac_query("2019-03")
cube_1903 = stac_load_help(items2)
cube_1903


plot_rbg(0, cube_1903)


items2keep.append(items2[0])


items2keep


items3 = stac_query("2020-09")
cube_202009 = stac_load_help(items3)
cube_202009


plot_rbg(5, cube_202009)


items2keep.append(items3[5])


items4 = stac_query("2024-05")
cube_202405 = stac_load_help(items4)


plot_rbg(2, cube_202405)


items4[-3]


items2keep.append(items4[-3])
items2keep


import pickle

with open('kanger_image_item_list.pkl', 'wb') as f:
    pickle.dump(items2keep, f)





cube_202405.rio.crs



