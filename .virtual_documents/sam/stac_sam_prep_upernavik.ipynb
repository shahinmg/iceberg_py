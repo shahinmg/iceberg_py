import dask.distributed
import dask.utils
import numpy as np
import planetary_computer as pc
import xarray as xr
from IPython.display import display
from pystac_client import Client
import geopandas as gpd
import requests
from shapely.geometry import box
from odc.geo.geobox import GeoBox
from odc.stac import configure_rio, stac_load
%matplotlib inline

import matplotlib.pyplot as plt
import numpy as np
import folium
import folium.plugins


client = dask.distributed.Client()
configure_rio(cloud_defaults=True, client=client)
display(client)


catalog = Client.open("https://planetarycomputer.microsoft.com/api/stac/v1",modifier=pc.sign_inplace)
upvk_mel = gpd.read_file('/media/laserglaciers/upernavik/iceberg_py/geoms/upernavik/upvk_mel_box_4326.gpkg')
minx, miny, maxx, maxy = upvk_mel.geometry.total_bounds
kbox = box(minx, miny, maxx, maxy)

query = catalog.search(
    collections = ["sentinel-2-l2a"],
    datetime = "2020-08",
    query = {"eo:cloud_cover": {"lt": 10}},
    bbox = upvk_mel.geometry.total_bounds
    )

items = list(query.items())
print(f"Found: {len(items):d} datasets")


stac_json = query.item_collection_as_dict()


gdf = gpd.GeoDataFrame.from_features(stac_json, "epsg:4326")
gdf.head()


gdf = gpd.GeoDataFrame.from_features(stac_json, "epsg:4326")

# Compute granule id from components
# gdf["granule"] = (
#     gdf["proj:epsg"]
#     + gdf["s2:mgrs_tile"]
# )

fig = gdf.plot(
    "s2:mgrs_tile",
    edgecolor="black",
    categorical=True,
    aspect="equal",
    alpha=0.5,
    figsize=(6, 12),
    legend=True,
    legend_kwds={"loc": "upper left", "frameon": False, "ncol": 1},
)
_ = fig.set_title("STAC Query Results")


def convert_bounds(bbox, invert_y=False):
    """
    Helper method for changing bounding box representation to leaflet notation

    ``(lon1, lat1, lon2, lat2) -> ((lat1, lon1), (lat2, lon2))``
    """
    x1, y1, x2, y2 = bbox
    if invert_y:
        y1, y2 = y2, y1
    return ((y1, x1), (y2, x2))


from branca.element import Figure

fig = Figure(width="400px", height="500px")
map1 = folium.Map()
fig.add_child(map1)

folium.GeoJson(
    kbox,
    style_function=lambda x: dict(fill=False, weight=1, opacity=0.7, color="olive"),
    name="Query",
).add_to(map1)

gdf.explore(
    "s2:mgrs_tile",
    categorical=True,
    tooltip=[
        "s2:mgrs_tile"
    ],
    popup=True,
    style_kwds=dict(fillOpacity=0.1, width=2),
    name="STAC",
    m=map1,
)

map1.fit_bounds(bounds=convert_bounds(gdf.unary_union.bounds))
display(fig)








resolution = 10
SHRINK = 1
if client.cluster.workers[0].memory_manager.memory_limit < dask.utils.parse_bytes("4G"):
    SHRINK = 8  # running on Binder with 2Gb RAM

if SHRINK > 1:
    resolution = resolution * SHRINK

# geobox = GeoBox.from_bbox(upvk_mel.geometry.total_bounds, resolution=resolution)
xx = stac_load(
    items,
    chunks={},
    bands=["red", "green", "blue", "nir"],
    patch_url=pc.sign,
    # force dtype and nodata
    dtype="uint16",
    nodata=0,
    bbox=upvk_mel.geometry.total_bounds
)

print(f"Bands: {','.join(list(xx.data_vars))}")
display(xx)


time=3
rgb = np.dstack((xx.red.isel(time=time).values,
                 xx.green.isel(time=time).values,
                 xx.blue.isel(time=time).values))
# Normalize the RGB data
rgb_norm = rgb / rgb.max()

# Display the normalized RGB image using plt.imshow
plt.imshow(rgb_norm)


def stac_query(date):
    query = catalog.search(
    collections = ["sentinel-2-l2a"],
    datetime = date,
    
    query = {"eo:cloud_cover": {"lt": 10}}
    )
    bbox = upvk_mel.geometry.total_bounds,
    items = list(query.items())
    print(f"Found: {len(items):d} datasets")

    return items

def stac_load_help(items):
    xx = stac_load(
    items,
    chunks={},
    bands=["red", "green", "blue", "nir"],
    patch_url=pc.sign,
    resolution=resolution,
    # force dtype and nodata
    dtype="uint16",
    nodata=0,
    geopolygon=upvk_mel
    )

    return xx


time=1
rgb = np.dstack((xx.red.isel(time=time).values,
                 xx.green.isel(time=time).values,
                 xx.blue.isel(time=time).values))
# Normalize the RGB data
rgb_norm = rgb / rgb.max()

# Display the normalized RGB image using plt.imshow
plt.imshow(rgb_norm)


time=2
from rasterio.plot import show
from rasterio.plot import reshape_as_raster, reshape_as_image

def plot_rbg(time, image_stac):
    rgb = np.dstack((image_stac.red.isel(time=time).values,
                     image_stac.green.isel(time=time).values,
                     image_stac.blue.isel(time=time).values))
    # Normalize the RGB data
    rgb_norm = rgb / np.nanmax(rgb)
    
    # Display the normalized RGB image using plt.imshow
    plt.imshow(rgb_norm)
    
def plot_rbg_rasterio(time, image_stac):
    rgb = np.dstack((image_stac.red.isel(time=time).values,
                     image_stac.green.isel(time=time).values,
                     image_stac.blue.isel(time=time).values))
    # Normalize the RGB data
    rgb_raster = reshape_as_raster(rgb)
    affine = image_stac.odc.affine
    show(rgb_raster, transform=affine, adjust=True)




items[-3]
items2keep = []


def stac_query_l8(date):
    query = catalog.search(
    collections = ["landsat-c2-l2"],
    datetime = date,
    query = {"eo:cloud_cover": {"lt": 10},
            'landsat:wrs_path':dict(eq="016"),
            },
    bbox = upvk_mel.geometry.total_bounds
    )

    items = list(query.items())
    print(f"Found: {len(items):d} datasets")

    return items


def stac_load_help_l8(items):
    xx = stac_load(
    items,
    chunks={},
    bands=["red", "green", "blue"],
    patch_url=pc.sign,
    resolution=30,
    # force dtype and nodata
    dtype="uint16",
    nodata=0,
    geopolygon=upvk_mel
    )

    return xx


items2keep = []


items3 = stac_query_l8("2018-07")
cube_1007 = stac_load_help_l8(items3)


items3


cube_1007


plot_rbg_rasterio(2, cube_1007)


items2keep.append(items3[0])


items4 = stac_query_l8("2016-03")
cube_1503 = stac_load_help_l8(items4)


plot_rbg_rasterio(3, cube_1503)


cube_1503.time


items4


items2keep.append(items4[3])


items2keep


items5 = stac_query_l8("2022-08")
cube_2308 = stac_load_help_l8(items5)


plot_rbg_rasterio(0, cube_2308)


items5


items2keep.append(items5[1])
items2keep


items6 = stac_query_l8("1998-08")
cube_9808 = stac_load_help_l8(items6)


plot_rbg_rasterio(0, cube_9808)


items2keep.append(items6[0])
items2keep


items7 = stac_query_l8("2023-09")
cube_0103 = stac_load_help_l8(items7)


plot_rbg_rasterio(1, cube_0103)


cube_0103.time


items7





import pickle

with open('jkb_image_item_list.pkl', 'wb') as f:
    pickle.dump(items2keep, f)



