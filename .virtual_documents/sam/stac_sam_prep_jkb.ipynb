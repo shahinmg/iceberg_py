import dask.distributed
import dask.utils
import numpy as np
import planetary_computer as pc
import xarray as xr
from IPython.display import display
from pystac_client import Client
import geopandas as gpd
import requests
from shapely.geometry import box

from odc.stac import configure_rio, stac_load
%matplotlib inline

import matplotlib.pyplot as plt
import numpy as np



client = dask.distributed.Client()
configure_rio(cloud_defaults=True, client=client)
display(client)


catalog = Client.open("https://planetarycomputer.microsoft.com/api/stac/v1",modifier=pc.sign_inplace)
jkb_mel = gpd.read_file('/media/laserglaciers/upernavik/iceberg_py/geoms/jkb/melange_poly_box_4326.gpkg')
minx, miny, maxx, maxy = jkb_mel.geometry.total_bounds
kbox = box(minx, miny, maxx, maxy)

query = catalog.search(
    collections = ["sentinel-2-l2a"],
    datetime = "2020-08",
    query = {"s2:mgrs_tile": dict(eq="22WEB"),
        "eo:cloud_cover": {"lt": 10}})

items = list(query.items())
print(f"Found: {len(items):d} datasets")


resolution = 10
SHRINK = 1
if client.cluster.workers[0].memory_manager.memory_limit < dask.utils.parse_bytes("4G"):
    SHRINK = 8  # running on Binder with 2Gb RAM

if SHRINK > 1:
    resolution = resolution * SHRINK

xx = stac_load(
    items,
    chunks={},
    bands=["red", "green", "blue", "nir"],
    patch_url=pc.sign,
    resolution=resolution,
    # force dtype and nodata
    dtype="uint16",
    nodata=0,
    geopolygon=jkb_mel
)

print(f"Bands: {','.join(list(xx.data_vars))}")
display(xx)


def stac_query(date):
    query = catalog.search(
    collections = ["sentinel-2-l2a"],
    datetime = date,
    query = {"s2:mgrs_tile": dict(eq="22WEB"),
        "eo:cloud_cover": {"lt": 10}})

    items = list(query.items())
    print(f"Found: {len(items):d} datasets")

    return items

def stac_load_help(items):
    xx = stac_load(
    items,
    chunks={},
    bands=["red", "green", "blue", "nir"],
    patch_url=pc.sign,
    resolution=resolution,
    # force dtype and nodata
    dtype="uint16",
    nodata=0,
    geopolygon=jkb_mel
    )

    return xx


time=2
rgb = np.dstack((xx.red.isel(time=time).values,
                 xx.green.isel(time=time).values,
                 xx.blue.isel(time=time).values))
# Normalize the RGB data
rgb_norm = rgb / rgb.max()

# Display the normalized RGB image using plt.imshow
plt.imshow(rgb_norm)


time=2
from rasterio.plot import show
from rasterio.plot import reshape_as_raster, reshape_as_image

def plot_rbg(time, image_stac):
    rgb = np.dstack((image_stac.red.isel(time=time).values,
                     image_stac.green.isel(time=time).values,
                     image_stac.blue.isel(time=time).values))
    # Normalize the RGB data
    rgb_norm = rgb / np.nanmax(rgb)
    
    # Display the normalized RGB image using plt.imshow
    plt.imshow(rgb_norm)
    
def plot_rbg_rasterio(time, image_stac):
    rgb = np.dstack((image_stac.red.isel(time=time).values,
                     image_stac.green.isel(time=time).values,
                     image_stac.blue.isel(time=time).values))
    # Normalize the RGB data
    rgb_raster = reshape_as_raster(rgb)
    affine = image_stac.odc.affine
    show(rgb_raster, transform=affine, adjust=True)




items[-3]
items2keep = []


items2keep.append(items[-3])
items2keep


items2 = stac_query("2019-10")
cube_1903 = stac_load_help(items2)
cube_1903.odc.affine


plot_rbg_rasterio(-1, cube_1903)


items2


items2keep.append(items2[0])


items2keep


def stac_query_l8(date):
    query = catalog.search(
    collections = ["landsat-c2-l2"],
    datetime = date,
    query = {"eo:cloud_cover": {"lt": 10}},
    bbox = jkb_mel.geometry.total_bounds
    )

    items = list(query.items())
    print(f"Found: {len(items):d} datasets")

    return items


def stac_load_help_l8(items):
    xx = stac_load(
    items,
    chunks={},
    bands=["red", "green", "blue"],
    patch_url=pc.sign,
    resolution=30,
    # force dtype and nodata
    dtype="uint16",
    nodata=0,
    geopolygon=jkb_mel
    )

    return xx


items3 = stac_query_l8("2001-07")
cube_1007 = stac_load_help_l8(items2)


plot_rbg_rasterio(1, cube_1007)


cube_1007


items3[-1]


items2keep.append(items3[-1])


items2keep


items4 = stac_query_l8("1990-06")
cube_9506 = stac_load_help_l8(items4)


plot_rbg_rasterio(1, cube_9506)


cube_9506.time


items4


items2keep.append(items4[-2])
items2keep


items5 = stac_query_l8("2015-08")
cube_1508 = stac_load_help_l8(items5)


plot_rbg_rasterio(1, cube_1508)


cube_1508.time


items5


items2keep.append(items5[1])
items2keep


import pickle

with open('jkb_image_item_list.pkl', 'wb') as f:
    pickle.dump(items2keep, f)



