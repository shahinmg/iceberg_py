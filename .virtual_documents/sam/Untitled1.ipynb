import dask.distributed
import dask.utils
import numpy as np
import planetary_computer as pc
import xarray as xr
from IPython.display import display
from pystac_client import Client
import geopandas as gpd
import requests
from shapely.geometry import box
from odc.geo.geobox import GeoBox
from odc.stac import configure_rio, stac_load
import pickle
%matplotlib inline


client = dask.distributed.Client()
configure_rio(cloud_defaults=True, client=client)
display(client)


item_pkls = './item_pkls/kanger_image_item_list.pkl'

with open(item_pkls, 'rb') as f:
    kanger_stack_list = pickle.load(f)
    

kanger_stack_list


grid_path = '/media/laserglaciers/upernavik/iceberg_py/geoms/kanger/utm25N_kanger_box_grid.gpkg'
grid = gpd.read_file(grid_path)


resolution = 10
SHRINK = 1
if client.cluster.workers[0].memory_manager.memory_limit < dask.utils.parse_bytes("4G"):
    SHRINK = 8  # running on Binder with 2Gb RAM

if SHRINK > 1:
    resolution = resolution * SHRINK


image_stac = stac_load(
    kanger_stack_list,
    bands=["red", "green", "blue"],
    resolution=resolution,
    chunks={"x": 2048, "y": 2048},
    patch_url=pc.sign,
    # force dtype and nodata
    dtype="uint16",
    nodata=0,
    geopolygon=grid
)


image_stac


grid.crs



