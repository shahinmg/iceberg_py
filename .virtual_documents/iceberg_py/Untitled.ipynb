import melt_functions as ice_melt
import numpy as np
import xarray as xr
import scipy.io as sio
from plot_icebergshape import plot_icebergshape
import matplotlib.pyplot as plt
from scipy.interpolate import interp1d, interp2d
from matplotlib import cm,colors
import pickle
import geopandas as gpd
from mpl_toolkits.axes_grid1 import make_axes_locatable
import os
import pandas as pd
import dataframe_image as dfi

dt = 50

psw = 1024 #kg m3
csw = 3974 #J kg-1 C-1
day2sec = 86400
Volume_test = 20e3 * 5e3 * 300 #km3 Helheim Fjord test

coeff_1_path = '/media/laserglaciers/upernavik/iceberg_py/outfiles/helheim/Qib/coeff_1'
coeff_4_path = '/media/laserglaciers/upernavik/iceberg_py/outfiles/helheim/Qib/coeff_4/'

coeff_1_list = sorted([nc for nc in os.listdir(coeff_1_path) if nc.endswith('nc')])
coeff_4_list = sorted([nc for nc in os.listdir(coeff_4_path) if nc.endswith('nc')])


constant_tf_55 = 5.5 # from Slater 2022 nature geoscience
constant_tf_67 = 6.67 # from Slater 2022 nature geoscience
constant_tf_8 = 8 # from Slater 2022 nature geoscience

dQ_dt_HEL_55 = psw * csw * ( (Volume_test * constant_tf_55) / (dt * day2sec) )
dQ_dt_HEL_67 = psw * csw * ( (Volume_test * constant_tf_67) / (dt * day2sec) )
dQ_dt_HEL_8 = psw * csw * ( (Volume_test * constant_tf_8) / (dt * day2sec) )

os.chdir(coeff_1_path)
dQ_dt_list = [dQ_dt_HEL_55, dQ_dt_HEL_67, dQ_dt_HEL_8]

tfs = [constant_tf_55, constant_tf_67, constant_tf_8]
urels = [0.01, 0.05, 0.10] #m s-1
cols = ['coeff', 'urel', 'tf', 'dt', 'Qib', 'Qaww', 'percentage']
coef_1_dict = {}

series_list1 = []
for i,nc in enumerate(coeff_1_list):
    
    Qib = xr.open_dataset(nc)
    Qib_val = Qib.Qib.data
    
    percentage = Qib_val/dQ_dt_list[i]
    print(f'coeff 1: {percentage:.2f}')
    coef_1_dict['coeff'] = 1
    coef_1_dict['urel'] = urels[i]
    coef_1_dict['tf'] = tfs[i]
    coef_1_dict['dt'] = 50
    coef_1_dict['Qib'] = f'{(Qib_val/1e11):.2f}'
    coef_1_dict['Qaww'] = f'{(dQ_dt_list[i]/1e11):.2f}'
    coef_1_dict['percentage'] = f'{(Qib_val/dQ_dt_list[i])*100:.2f}'
    
    series = pd.Series(coef_1_dict)
    series_list1.append(series)

df_1 = pd.DataFrame(series_list1, columns=cols)   
os.chdir(coeff_4_path)

coef_4_dict = {}
series_list = []
for i,nc in enumerate(coeff_4_list):
    
    Qib = xr.open_dataset(nc)
    Qib_val = Qib.Qib.data
    
    percentage = Qib_val/dQ_dt_list[i]
    print(f'coeff 4: {percentage:.2f}')
    
    coef_4_dict['coeff'] = 4
    coef_4_dict['urel'] = urels[i]
    coef_4_dict['tf'] = tfs[i]
    coef_4_dict['dt'] = 50
    coef_4_dict['Qib'] = f'{(Qib_val/1e11):.2f}'
    coef_4_dict['Qaww'] = f'{(dQ_dt_list[i]/1e11):.2f}'
    coef_4_dict['percentage'] = f'{(Qib_val/dQ_dt_list[i])*100:.2f}'
    
    series = pd.Series(coef_4_dict)
    series_list.append(series)
    


df_1 = pd.DataFrame(series_list1, columns=cols)
df_4 = pd.DataFrame(series_list, columns=cols)

df_concat = pd.concat([df_1, df_4])



df_concat.reset_index(inplace=True,drop=True)
df_concat


# pd.options.display.latex.repr = True
l = df_concat.to_latex(
    index=False,  # To not include the DataFrame index as a column in the table
    position="htbp",  # The preferred positions where the table should be placed in the document ('here', 'top', 'bottom', 'page')
    column_format="|l|l|l|l|l|l|l|",  # The format of the columns: left-aligned with vertical lines between them
    escape=False,  # Disable escaping LaTeX special characters in the DataFrame
    float_format="{:0.2f}".format  # Formats floats to two decimal places
)


df_concat.reset_index(drop=True, inplace=True)





dfi.export(df_concat, '/media/laserglaciers/upernavik/iceberg_py/figs/df_concat.png')


pd.options.display.latex.repr = True


help(dfi.export)



