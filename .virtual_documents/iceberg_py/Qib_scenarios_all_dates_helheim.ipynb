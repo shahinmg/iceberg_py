import melt_functions as ice_melt
import numpy as np
import xarray as xr
import scipy.io as sio
from plot_icebergshape import plot_icebergshape
import matplotlib.pyplot as plt
from scipy.interpolate import interp1d, interp2d
from matplotlib import cm,colors
import pickle
import geopandas as gpd
from mpl_toolkits.axes_grid1 import make_axes_locatable
import os
import pandas as pd
import dataframe_image as dfi





dt = 50

psw = 1024 #kg m3
csw = 3974 #J kg-1 C-1
day2sec = 86400
# Volume_test = 28e3 * 5e3 * 300 #km3 Helheim Fjord test
Volume_test = 148461041 * 300 #km3 Helheim Fjord test

coeff_1_path = '/media/laserglaciers/upernavik/iceberg_py/outfiles/helheim/Qib/coeff_1_melt_rates/'
coeff_4_path = '/media/laserglaciers/upernavik/iceberg_py/outfiles/helheim/Qib/coeff_4_melt_rates/'

coeff_1_list = sorted([nc for nc in os.listdir(coeff_1_path) if nc.endswith('nc')])
coeff_4_list = sorted([nc for nc in os.listdir(coeff_4_path) if nc.endswith('nc')])


constant_tf_57 = 5.73 # from Slater 2022 nature geoscience
constant_tf_67 = 6.67 # from Slater 2022 nature geoscience
constant_tf_76 = 7.62 # from Slater 2022 nature geoscience

dQ_dt_HEL_57 = psw * csw * ( (Volume_test * constant_tf_57) / (dt * day2sec) )
dQ_dt_HEL_67 = psw * csw * ( (Volume_test * constant_tf_67) / (dt * day2sec) )
dQ_dt_HEL_76 = psw * csw * ( (Volume_test * constant_tf_76) / (dt * day2sec) )

os.chdir(coeff_1_path)
dQ_dt_list = [dQ_dt_HEL_57, dQ_dt_HEL_67, dQ_dt_HEL_76]
dQ_dt_dict = {'5.73':dQ_dt_HEL_57,
              '6.67':dQ_dt_HEL_67,
              '7.62':dQ_dt_HEL_76
    
}

tfs = [dQ_dt_HEL_57, constant_tf_67, dQ_dt_HEL_76]

TF_dict = {'5.73':constant_tf_57,
              '6.67':constant_tf_67,
              '7.62':constant_tf_76
    
}

urels = [0.01, 0.05, 0.10] #m s-1

urels_dict = {'01': 0.01,
              '05' : 0.05,
              '1' : 0.10
}

cols = ['coeff', 'urel', 'tf', 'dt', 'Qib', 'Qaww', 'melt_rate_avg_m3s', 'melt_rate_mday', 'percentage']







# pd.options.display.latex.repr = True
# l = df_concat.to_latex(
#     index=False,  # To not include the DataFrame index as a column in the table
#     position="htbp",  # The preferred positions where the table should be placed in the document ('here', 'top', 'bottom', 'page')
#     column_format="|l|l|l|l|l|l|l|",  # The format of the columns: left-aligned with vertical lines between them
#     escape=True,  # Disable escaping LaTeX special characters in the DataFrame
#     float_format="{:0.2f}".format  # Formats floats to two decimal places
# )
# l2 = df_concat.to_latex(
#     index = False,
#     float_format="{:0.2f}".format  # Formats floats to two decimal places
# )


# print(l2)


# dfi.export(df_concat, '/media/laserglaciers/upernavik/iceberg_py/figs/df_concat_vol_28km_length_melt_rates.png')


# pd.options.display.latex.repr = True


# help(dfi.export)


# df_concat.to_csv('/media/laserglaciers/upernavik/iceberg_py/Qib_test.csv')


coeff_1_path = '/media/laserglaciers/upernavik/iceberg_py/outfiles/helheim/Qib_melt_flux_v2/coeff_1/'
coeff_4_path = '/media/laserglaciers/upernavik/iceberg_py/outfiles/helheim/Qib_melt_flux_v2/coeff_4/'

coeff_1_list = sorted([nc for nc in os.listdir(coeff_1_path) if nc.endswith('nc')])
coeff_4_list = sorted([nc for nc in os.listdir(coeff_4_path) if nc.endswith('nc')])


constant_tf_57 = 5.73 # from Slater 2022 nature geoscience
constant_tf_67 = 6.67 # from Slater 2022 nature geoscience
constant_tf_76 = 7.62 # from Slater 2022 nature geoscience

dQ_dt_HEL_57 = psw * csw * ( (Volume_test * constant_tf_57) / (dt * day2sec) )
dQ_dt_HEL_67 = psw * csw * ( (Volume_test * constant_tf_67) / (dt * day2sec) )
dQ_dt_HEL_76 = psw * csw * ( (Volume_test * constant_tf_76) / (dt * day2sec) )

os.chdir(coeff_1_path)
dQ_dt_list = [dQ_dt_HEL_57, dQ_dt_HEL_67, constant_tf_76]

tfs = [constant_tf_57, constant_tf_67, constant_tf_76]
urels = [0.01, 0.05, 0.10] #m s-1

# cols = ['date', 'coeff', 'urel', 'tf', 'dt', 'Qib', 'Qaww', 'melt_rate_avg_m3s', 'melt_rate_mday', 'percentage']
cols = ['date', 'coeff', 'urel', 'tf', 'dt', 'Qib', 'Qaww', 'melt_flux_m3s', 'percentage']
coef_1_dict = {}


series_list1 = []
for i,nc in enumerate(coeff_1_list):
    
    Qib = xr.open_dataset(nc)
    Qib_val = Qib.Qib.data
    date = nc[:10]
    date = pd.to_datetime(date)
    TF = nc.split('_')[6]
    urel_val = nc.split('_')[-1].split('.')[1]
    
    percentage = Qib_val/dQ_dt_dict[TF]
    print(f'coeff 1: {percentage:.2f}')
    print(f'{date}')
    coef_1_dict['date'] = date
    coef_1_dict['coeff'] = 1
    coef_1_dict['urel'] = urels_dict[urel_val]
    coef_1_dict['tf'] = TF_dict[TF]
    coef_1_dict['dt'] = 50
    coef_1_dict['Qib'] = (Qib_val)
    coef_1_dict['Qaww'] = (dQ_dt_dict[TF])
    # coef_1_dict['melt_rate_avg_m3s'] = Qib.melt_rate_avg.data
    coef_1_dict['melt_flux_m3s'] = Qib.melt_rate_intergrated.data
    
    # coef_1_dict['percentage'] = percentage*100
    
    series = pd.Series(coef_1_dict)
    series_list1.append(series)

df_1 = pd.DataFrame(series_list1, columns=cols)   
os.chdir(coeff_4_path)

coef_4_dict = {}
series_list4 = []
for i,nc in enumerate(coeff_4_list):
    
    Qib = xr.open_dataset(nc)
    Qib_val = Qib.Qib.data
    date = nc[:10]
    date = pd.to_datetime(date)
    TF_4 = nc.split('_')[6]
    urel_val = nc.split('_')[-1].split('.')[1]
    
    percentage = Qib_val/dQ_dt_dict[TF]
    print(f'coeff 4: {percentage:.2f}')
    print(f'{TF}')
    coef_4_dict['date'] = date
    coef_4_dict['coeff'] = 4
    coef_4_dict['urel'] = urels_dict[urel_val]
    coef_4_dict['tf'] = TF_dict[TF_4]
    coef_4_dict['dt'] = 50
    coef_4_dict['Qib'] = (Qib_val)
    coef_4_dict['Qaww'] = (dQ_dt_dict[TF_4])
    # coef_4_dict['melt_rate_avg_m3s'] = Qib.melt_rate_avg.data
    coef_4_dict['melt_flux_m3s'] = Qib.melt_rate_intergrated.data

    
    # coef_4_dict['percentage'] = percentage*100
    
    series4 = pd.Series(coef_4_dict)
    series_list4.append(series4)
    


df_1 = pd.DataFrame(series_list1, columns=cols)
df_4 = pd.DataFrame(series_list4, columns=cols)

df_concat = pd.concat([df_1, df_4],ignore_index=True)



df_concat


c4 = df_concat['coeff']==4
df_concat.loc[c4]['melt_flux_m3s'].mean()


c1 = df_concat['coeff']==1
df_concat.loc[c1]['melt_flux_m3s'].mean()


df_concat.loc[c4]['Qib'].mean()


df_concat.loc[c1]['Qib'].mean()


c4_urel05 = (df_concat['coeff']==4) & (df_concat['urel'] == 0.05)
df_concat.loc[c4_urel05]['Qib'].mean()


c1_urel05 = (df_concat['coeff']==1) & (df_concat['urel'] == 0.05)
df_concat.loc[c1_urel05]['Qib'].mean()


df_concat.loc[c1_urel05]


df_concat.loc[c1_urel05]['melt_flux_m3s'].mean()


c1_urel01 = (df_concat['coeff']==1) & (df_concat['urel'] == 0.01) & (df_concat['tf'] == 5.73)
df_concat.loc[c1_urel01]


df_concat.loc[c1_urel01]['melt_flux_m3s'].mean()


c1_urel10 = (df_concat['coeff']==1) & (df_concat['urel'] == 0.10) & (df_concat['tf'] == 7.62)
df_concat.loc[c1_urel10]


df_concat.loc[c1_urel10]['melt_flux_m3s'].mean()


c4_urel01 = (df_concat['coeff']==4) & (df_concat['urel'] == 0.01) & (df_concat['tf'] == 5.73)
df_concat.loc[c4_urel01]


df_concat.loc[c4_urel01]['melt_flux_m3s'].mean()


c4_urel05 = (df_concat['coeff']==4) & (df_concat['urel'] == 0.05) & (df_concat['tf'] == 6.67)
df_concat.loc[c4_urel05]


df_concat.loc[c4_urel05]['melt_flux_m3s'].mean()


c4_urel10 = (df_concat['coeff']==4) & (df_concat['urel'] == 0.1) & (df_concat['tf'] == 7.62)
df_concat.loc[c4_urel10]


df_concat.loc[c4_urel10]['melt_flux_m3s'].mean()


df_1


df_4


df_concat.loc[c4_urel05]['percentage'].mean()


df_concat.loc[c4_urel05].Qib/df_concat.loc[c4_urel05].Qaww


df_concat.loc[c4_urel05]


df_concat['percentage'] = (df_concat.Qib/df_concat.Qaww)*100


df_concat


df_concat.loc[c4_urel05].percentage.mean()


df_concat.to_csv('/media/laserglaciers/upernavik/iceberg_py/csv/all_experiments.csv')



