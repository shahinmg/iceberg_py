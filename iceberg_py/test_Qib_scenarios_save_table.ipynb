{
 "cells": [
  {
   "cell_type": "code",
   "execution_count": 21,
   "id": "a0cda568-686d-4bfa-bab4-a4061631600f",
   "metadata": {},
   "outputs": [],
   "source": [
    "import melt_functions as ice_melt\n",
    "import numpy as np\n",
    "import xarray as xr\n",
    "import scipy.io as sio\n",
    "from plot_icebergshape import plot_icebergshape\n",
    "import matplotlib.pyplot as plt\n",
    "from scipy.interpolate import interp1d, interp2d\n",
    "from matplotlib import cm,colors\n",
    "import pickle\n",
    "import geopandas as gpd\n",
    "from mpl_toolkits.axes_grid1 import make_axes_locatable\n",
    "import os\n",
    "import pandas as pd\n",
    "import dataframe_image as dfi\n"
   ]
  },
  {
   "cell_type": "code",
   "execution_count": 22,
   "id": "2f6be73f-0e2e-4142-b26c-53a24282a60d",
   "metadata": {},
   "outputs": [],
   "source": [
    "\n",
    "\n",
    "dt = 50\n",
    "\n",
    "psw = 1024 #kg m3\n",
    "csw = 3974 #J kg-1 C-1\n",
    "day2sec = 86400\n",
    "Volume_test = 28e3 * 5e3 * 300 #km3 Helheim Fjord test\n",
    "\n",
    "coeff_1_path = '/media/laserglaciers/upernavik/iceberg_py/outfiles/helheim/Qib/coeff_1_melt_rates/'\n",
    "coeff_4_path = '/media/laserglaciers/upernavik/iceberg_py/outfiles/helheim/Qib/coeff_4_melt_rates/'\n",
    "\n",
    "coeff_1_list = sorted([nc for nc in os.listdir(coeff_1_path) if nc.endswith('nc')])\n",
    "coeff_4_list = sorted([nc for nc in os.listdir(coeff_4_path) if nc.endswith('nc')])\n",
    "\n",
    "\n",
    "constant_tf_57 = 5.73 # from Slater 2022 nature geoscience\n",
    "constant_tf_67 = 6.67 # from Slater 2022 nature geoscience\n",
    "constant_tf_76 = 7.62 # from Slater 2022 nature geoscience\n",
    "\n",
    "dQ_dt_HEL_57 = psw * csw * ( (Volume_test * constant_tf_57) / (dt * day2sec) )\n",
    "dQ_dt_HEL_67 = psw * csw * ( (Volume_test * constant_tf_67) / (dt * day2sec) )\n",
    "dQ_dt_HEL_76 = psw * csw * ( (Volume_test * constant_tf_76) / (dt * day2sec) )\n",
    "\n",
    "os.chdir(coeff_1_path)\n",
    "dQ_dt_list = [dQ_dt_HEL_55, dQ_dt_HEL_67, dQ_dt_HEL_8]\n",
    "dQ_dt_dict = {'5.73':dQ_dt_HEL_57,\n",
    "              '6.67':dQ_dt_HEL_67,\n",
    "              '7.62':dQ_dt_HEL_8\n",
    "    \n",
    "}\n",
    "\n",
    "tfs = [constant_tf_55, constant_tf_67, constant_tf_8]\n",
    "\n",
    "TF_dict = {'5.73':constant_tf_57,\n",
    "              '6.67':constant_tf_67,\n",
    "              '7.62':constant_tf_76\n",
    "    \n",
    "}\n",
    "\n",
    "urels = [0.01, 0.05, 0.10] #m s-1\n",
    "\n",
    "urels_dict = {'01': 0.01,\n",
    "              '05' : 0.05,\n",
    "              '1' : 0.01\n",
    "}\n",
    "\n",
    "cols = ['coeff', 'urel', 'tf', 'dt', 'Qib', 'Qaww', 'melt_rate_avg_m3s', 'melt_rate_mday', 'percentage']\n",
    "# coef_1_dict = {}\n",
    "\n",
    "# series_list1 = []\n",
    "# for i,nc in enumerate(coeff_1_list):\n",
    "    \n",
    "#     Qib = xr.open_dataset(nc)\n",
    "#     Qib_val = Qib.Qib.data\n",
    "    \n",
    "#     percentage = Qib_val/dQ_dt_list[i]\n",
    "#     print(f'coeff 1: {percentage:.2f}')\n",
    "#     coef_1_dict['coeff'] = 1\n",
    "#     coef_1_dict['urel'] = urels[i]\n",
    "#     coef_1_dict['tf'] = tfs[i]\n",
    "#     coef_1_dict['dt'] = 50\n",
    "#     coef_1_dict['Qib'] = f'{(Qib_val/1e11):.2f}'\n",
    "#     coef_1_dict['Qaww'] = f'{(dQ_dt_list[i]/1e11):.2f}'\n",
    "#     coef_1_dict['melt_rate_avg_m3s'] = f'{Qib.melt_rate_avg.data:.2f}'\n",
    "#     coef_1_dict['melt_rate_mday'] = f'{Qib.melt_rate_intergrated.data:.2f}'\n",
    "    \n",
    "#     coef_1_dict['percentage'] = f'{(Qib_val/dQ_dt_list[i])*100:.2f}'\n",
    "    \n",
    "#     series = pd.Series(coef_1_dict)\n",
    "#     series_list1.append(series)\n",
    "\n",
    "# df_1 = pd.DataFrame(series_list1, columns=cols)   \n",
    "# os.chdir(coeff_4_path)\n",
    "\n",
    "# coef_4_dict = {}\n",
    "# series_list = []\n",
    "# for i,nc in enumerate(coeff_4_list):\n",
    "    \n",
    "#     Qib = xr.open_dataset(nc)\n",
    "#     Qib_val = Qib.Qib.data\n",
    "    \n",
    "#     percentage = Qib_val/dQ_dt_list[i]\n",
    "#     print(f'coeff 4: {percentage:.2f}')\n",
    "    \n",
    "#     coef_4_dict['coeff'] = 4\n",
    "#     coef_4_dict['urel'] = urels[i]\n",
    "#     coef_4_dict['TF'] = tfs[i]\n",
    "#     coef_4_dict['dt'] = 50\n",
    "#     coef_4_dict['Qib'] = f'{(Qib_val/1e11):.2f}'\n",
    "#     coef_4_dict['Qaww'] = f'{(dQ_dt_list[i]/1e11):.2f}'\n",
    "#     coef_4_dict['melt_rate_avg_m3s'] = f'{Qib.melt_rate_avg.data:.2f}'\n",
    "#     coef_4_dict['melt_rate_mday'] = f'{Qib.melt_rate_intergrated.data:.2f}'\n",
    "\n",
    "    \n",
    "#     coef_4_dict['percentage'] = f'{(Qib_val/dQ_dt_list[i])*100:.2f}'\n",
    "    \n",
    "#     series = pd.Series(coef_4_dict)\n",
    "#     series_list.append(series)\n",
    "    \n",
    "\n",
    "\n",
    "# df_1 = pd.DataFrame(series_list1, columns=cols)\n",
    "# df_4 = pd.DataFrame(series_list, columns=cols)\n",
    "\n",
    "# df_concat = pd.concat([df_1, df_4])\n",
    "\n"
   ]
  },
  {
   "cell_type": "code",
   "execution_count": 4,
   "id": "11873406-ef91-4936-bb9f-a8feb51a6c50",
   "metadata": {},
   "outputs": [
    {
     "ename": "NameError",
     "evalue": "name 'df_concat' is not defined",
     "output_type": "error",
     "traceback": [
      "\u001b[0;31m---------------------------------------------------------------------------\u001b[0m",
      "\u001b[0;31mNameError\u001b[0m                                 Traceback (most recent call last)",
      "Cell \u001b[0;32mIn[4], line 1\u001b[0m\n\u001b[0;32m----> 1\u001b[0m \u001b[43mdf_concat\u001b[49m\u001b[38;5;241m.\u001b[39mreset_index(inplace\u001b[38;5;241m=\u001b[39m\u001b[38;5;28;01mTrue\u001b[39;00m,drop\u001b[38;5;241m=\u001b[39m\u001b[38;5;28;01mTrue\u001b[39;00m)\n\u001b[1;32m      2\u001b[0m df_concat\n",
      "\u001b[0;31mNameError\u001b[0m: name 'df_concat' is not defined"
     ]
    }
   ],
   "source": [
    "df_concat.reset_index(inplace=True,drop=True)\n",
    "df_concat"
   ]
  },
  {
   "cell_type": "code",
   "execution_count": 5,
   "id": "fec94a41-bf56-44f2-9f88-a1e53f6a7e0c",
   "metadata": {},
   "outputs": [
    {
     "ename": "NameError",
     "evalue": "name 'df_concat' is not defined",
     "output_type": "error",
     "traceback": [
      "\u001b[0;31m---------------------------------------------------------------------------\u001b[0m",
      "\u001b[0;31mNameError\u001b[0m                                 Traceback (most recent call last)",
      "Cell \u001b[0;32mIn[5], line 2\u001b[0m\n\u001b[1;32m      1\u001b[0m \u001b[38;5;66;03m# pd.options.display.latex.repr = True\u001b[39;00m\n\u001b[0;32m----> 2\u001b[0m l \u001b[38;5;241m=\u001b[39m \u001b[43mdf_concat\u001b[49m\u001b[38;5;241m.\u001b[39mto_latex(\n\u001b[1;32m      3\u001b[0m     index\u001b[38;5;241m=\u001b[39m\u001b[38;5;28;01mFalse\u001b[39;00m,  \u001b[38;5;66;03m# To not include the DataFrame index as a column in the table\u001b[39;00m\n\u001b[1;32m      4\u001b[0m     position\u001b[38;5;241m=\u001b[39m\u001b[38;5;124m\"\u001b[39m\u001b[38;5;124mhtbp\u001b[39m\u001b[38;5;124m\"\u001b[39m,  \u001b[38;5;66;03m# The preferred positions where the table should be placed in the document ('here', 'top', 'bottom', 'page')\u001b[39;00m\n\u001b[1;32m      5\u001b[0m     column_format\u001b[38;5;241m=\u001b[39m\u001b[38;5;124m\"\u001b[39m\u001b[38;5;124m|l|l|l|l|l|l|l|\u001b[39m\u001b[38;5;124m\"\u001b[39m,  \u001b[38;5;66;03m# The format of the columns: left-aligned with vertical lines between them\u001b[39;00m\n\u001b[1;32m      6\u001b[0m     escape\u001b[38;5;241m=\u001b[39m\u001b[38;5;28;01mTrue\u001b[39;00m,  \u001b[38;5;66;03m# Disable escaping LaTeX special characters in the DataFrame\u001b[39;00m\n\u001b[1;32m      7\u001b[0m     float_format\u001b[38;5;241m=\u001b[39m\u001b[38;5;124m\"\u001b[39m\u001b[38;5;132;01m{:0.2f}\u001b[39;00m\u001b[38;5;124m\"\u001b[39m\u001b[38;5;241m.\u001b[39mformat  \u001b[38;5;66;03m# Formats floats to two decimal places\u001b[39;00m\n\u001b[1;32m      8\u001b[0m )\n\u001b[1;32m      9\u001b[0m l2 \u001b[38;5;241m=\u001b[39m df_concat\u001b[38;5;241m.\u001b[39mto_latex(\n\u001b[1;32m     10\u001b[0m     index \u001b[38;5;241m=\u001b[39m \u001b[38;5;28;01mFalse\u001b[39;00m,\n\u001b[1;32m     11\u001b[0m     float_format\u001b[38;5;241m=\u001b[39m\u001b[38;5;124m\"\u001b[39m\u001b[38;5;132;01m{:0.2f}\u001b[39;00m\u001b[38;5;124m\"\u001b[39m\u001b[38;5;241m.\u001b[39mformat  \u001b[38;5;66;03m# Formats floats to two decimal places\u001b[39;00m\n\u001b[1;32m     12\u001b[0m )\n",
      "\u001b[0;31mNameError\u001b[0m: name 'df_concat' is not defined"
     ]
    }
   ],
   "source": [
    "# pd.options.display.latex.repr = True\n",
    "l = df_concat.to_latex(\n",
    "    index=False,  # To not include the DataFrame index as a column in the table\n",
    "    position=\"htbp\",  # The preferred positions where the table should be placed in the document ('here', 'top', 'bottom', 'page')\n",
    "    column_format=\"|l|l|l|l|l|l|l|\",  # The format of the columns: left-aligned with vertical lines between them\n",
    "    escape=True,  # Disable escaping LaTeX special characters in the DataFrame\n",
    "    float_format=\"{:0.2f}\".format  # Formats floats to two decimal places\n",
    ")\n",
    "l2 = df_concat.to_latex(\n",
    "    index = False,\n",
    "    float_format=\"{:0.2f}\".format  # Formats floats to two decimal places\n",
    ")"
   ]
  },
  {
   "cell_type": "code",
   "execution_count": 6,
   "id": "425abf5e-00a4-4430-a30d-0a712be9de10",
   "metadata": {},
   "outputs": [
    {
     "ename": "NameError",
     "evalue": "name 'l2' is not defined",
     "output_type": "error",
     "traceback": [
      "\u001b[0;31m---------------------------------------------------------------------------\u001b[0m",
      "\u001b[0;31mNameError\u001b[0m                                 Traceback (most recent call last)",
      "Cell \u001b[0;32mIn[6], line 1\u001b[0m\n\u001b[0;32m----> 1\u001b[0m \u001b[38;5;28mprint\u001b[39m(\u001b[43ml2\u001b[49m)\n",
      "\u001b[0;31mNameError\u001b[0m: name 'l2' is not defined"
     ]
    }
   ],
   "source": [
    "print(l2)"
   ]
  },
  {
   "cell_type": "code",
   "execution_count": 7,
   "id": "c4e5448b-30fd-45b6-aad9-0576f19e5a68",
   "metadata": {},
   "outputs": [
    {
     "ename": "NameError",
     "evalue": "name 'df_concat' is not defined",
     "output_type": "error",
     "traceback": [
      "\u001b[0;31m---------------------------------------------------------------------------\u001b[0m",
      "\u001b[0;31mNameError\u001b[0m                                 Traceback (most recent call last)",
      "Cell \u001b[0;32mIn[7], line 1\u001b[0m\n\u001b[0;32m----> 1\u001b[0m \u001b[43mdf_concat\u001b[49m\u001b[38;5;241m.\u001b[39mreset_index(drop\u001b[38;5;241m=\u001b[39m\u001b[38;5;28;01mTrue\u001b[39;00m, inplace\u001b[38;5;241m=\u001b[39m\u001b[38;5;28;01mTrue\u001b[39;00m)\n",
      "\u001b[0;31mNameError\u001b[0m: name 'df_concat' is not defined"
     ]
    }
   ],
   "source": [
    "df_concat.reset_index(drop=True, inplace=True)"
   ]
  },
  {
   "cell_type": "code",
   "execution_count": 8,
   "id": "ed83904f-6f6b-40be-837f-7dec01efe718",
   "metadata": {},
   "outputs": [
    {
     "ename": "NameError",
     "evalue": "name 'df_concat' is not defined",
     "output_type": "error",
     "traceback": [
      "\u001b[0;31m---------------------------------------------------------------------------\u001b[0m",
      "\u001b[0;31mNameError\u001b[0m                                 Traceback (most recent call last)",
      "Cell \u001b[0;32mIn[8], line 1\u001b[0m\n\u001b[0;32m----> 1\u001b[0m \u001b[43mdf_concat\u001b[49m\n",
      "\u001b[0;31mNameError\u001b[0m: name 'df_concat' is not defined"
     ]
    }
   ],
   "source": [
    "df_concat"
   ]
  },
  {
   "cell_type": "code",
   "execution_count": 9,
   "id": "1f0fc95f-2c5e-4ba1-bb23-ff607a41ce66",
   "metadata": {},
   "outputs": [],
   "source": [
    "# dfi.export(df_concat, '/media/laserglaciers/upernavik/iceberg_py/figs/df_concat_vol_28km_length_melt_rates.png')"
   ]
  },
  {
   "cell_type": "code",
   "execution_count": 10,
   "id": "dbf7ff23-3e3f-4c49-ba9a-493504673446",
   "metadata": {},
   "outputs": [],
   "source": [
    "# pd.options.display.latex.repr = True"
   ]
  },
  {
   "cell_type": "code",
   "execution_count": 11,
   "id": "9108e5ca-67bc-4ccd-891c-da5800124a2f",
   "metadata": {},
   "outputs": [],
   "source": [
    "# help(dfi.export)"
   ]
  },
  {
   "cell_type": "code",
   "execution_count": 12,
   "id": "e63e1128-0990-49e1-a5d9-ca515b89a3c3",
   "metadata": {},
   "outputs": [],
   "source": [
    "# df_concat.to_csv('/media/laserglaciers/upernavik/iceberg_py/Qib_test.csv')"
   ]
  },
  {
   "cell_type": "code",
   "execution_count": 13,
   "id": "7d45a2ec-e6e3-4836-a4f7-1e6208e44dd1",
   "metadata": {},
   "outputs": [
    {
     "ename": "NameError",
     "evalue": "name 'df_concat' is not defined",
     "output_type": "error",
     "traceback": [
      "\u001b[0;31m---------------------------------------------------------------------------\u001b[0m",
      "\u001b[0;31mNameError\u001b[0m                                 Traceback (most recent call last)",
      "Cell \u001b[0;32mIn[13], line 1\u001b[0m\n\u001b[0;32m----> 1\u001b[0m \u001b[43mdf_concat\u001b[49m\n",
      "\u001b[0;31mNameError\u001b[0m: name 'df_concat' is not defined"
     ]
    }
   ],
   "source": [
    "df_concat"
   ]
  },
  {
   "cell_type": "code",
   "execution_count": 14,
   "id": "614b9382-e94f-46b2-b8e9-f8ed314a1aef",
   "metadata": {},
   "outputs": [
    {
     "ename": "NameError",
     "evalue": "name 'dQ_dt_dict' is not defined",
     "output_type": "error",
     "traceback": [
      "\u001b[0;31m---------------------------------------------------------------------------\u001b[0m",
      "\u001b[0;31mNameError\u001b[0m                                 Traceback (most recent call last)",
      "Cell \u001b[0;32mIn[14], line 36\u001b[0m\n\u001b[1;32m     33\u001b[0m TF \u001b[38;5;241m=\u001b[39m nc\u001b[38;5;241m.\u001b[39msplit(\u001b[38;5;124m'\u001b[39m\u001b[38;5;124m_\u001b[39m\u001b[38;5;124m'\u001b[39m)[\u001b[38;5;241m6\u001b[39m]\n\u001b[1;32m     34\u001b[0m urel_val \u001b[38;5;241m=\u001b[39m nc\u001b[38;5;241m.\u001b[39msplit(\u001b[38;5;124m'\u001b[39m\u001b[38;5;124m_\u001b[39m\u001b[38;5;124m'\u001b[39m)[\u001b[38;5;241m-\u001b[39m\u001b[38;5;241m1\u001b[39m]\u001b[38;5;241m.\u001b[39msplit(\u001b[38;5;124m'\u001b[39m\u001b[38;5;124m.\u001b[39m\u001b[38;5;124m'\u001b[39m)[\u001b[38;5;241m1\u001b[39m]\n\u001b[0;32m---> 36\u001b[0m percentage \u001b[38;5;241m=\u001b[39m Qib_val\u001b[38;5;241m/\u001b[39m\u001b[43mdQ_dt_dict\u001b[49m[TF]\n\u001b[1;32m     37\u001b[0m \u001b[38;5;28mprint\u001b[39m(\u001b[38;5;124mf\u001b[39m\u001b[38;5;124m'\u001b[39m\u001b[38;5;124mcoeff 1: \u001b[39m\u001b[38;5;132;01m{\u001b[39;00mpercentage\u001b[38;5;132;01m:\u001b[39;00m\u001b[38;5;124m.2f\u001b[39m\u001b[38;5;132;01m}\u001b[39;00m\u001b[38;5;124m'\u001b[39m)\n\u001b[1;32m     38\u001b[0m \u001b[38;5;28mprint\u001b[39m(\u001b[38;5;124mf\u001b[39m\u001b[38;5;124m'\u001b[39m\u001b[38;5;132;01m{\u001b[39;00mdate\u001b[38;5;132;01m}\u001b[39;00m\u001b[38;5;124m'\u001b[39m)\n",
      "\u001b[0;31mNameError\u001b[0m: name 'dQ_dt_dict' is not defined"
     ]
    }
   ],
   "source": [
    "coeff_1_path = '/media/laserglaciers/upernavik/iceberg_py/outfiles/helheim/Qib/coeff_1_all/'\n",
    "coeff_4_path = '/media/laserglaciers/upernavik/iceberg_py/outfiles/helheim/Qib/coeff_4_all/'\n",
    "\n",
    "coeff_1_list = sorted([nc for nc in os.listdir(coeff_1_path) if nc.endswith('nc')])\n",
    "coeff_4_list = sorted([nc for nc in os.listdir(coeff_4_path) if nc.endswith('nc')])\n",
    "\n",
    "\n",
    "constant_tf_55 = 5.73 # from Slater 2022 nature geoscience\n",
    "constant_tf_67 = 6.67 # from Slater 2022 nature geoscience\n",
    "constant_tf_8 = 7.62 # from Slater 2022 nature geoscience\n",
    "\n",
    "dQ_dt_HEL_55 = psw * csw * ( (Volume_test * constant_tf_55) / (dt * day2sec) )\n",
    "dQ_dt_HEL_67 = psw * csw * ( (Volume_test * constant_tf_67) / (dt * day2sec) )\n",
    "dQ_dt_HEL_8 = psw * csw * ( (Volume_test * constant_tf_8) / (dt * day2sec) )\n",
    "\n",
    "os.chdir(coeff_1_path)\n",
    "dQ_dt_list = [dQ_dt_HEL_55, dQ_dt_HEL_67, dQ_dt_HEL_8]\n",
    "\n",
    "tfs = [constant_tf_55, constant_tf_67, constant_tf_8]\n",
    "urels = [0.01, 0.05, 0.10] #m s-1\n",
    "\n",
    "cols = ['date', 'coeff', 'urel', 'tf', 'dt', 'Qib', 'Qaww', 'melt_rate_avg_m3s', 'melt_rate_mday', 'percentage']\n",
    "coef_1_dict = {}\n",
    "\n",
    "\n",
    "series_list1 = []\n",
    "for i,nc in enumerate(coeff_1_list):\n",
    "    \n",
    "    Qib = xr.open_dataset(nc)\n",
    "    Qib_val = Qib.Qib.data\n",
    "    date = nc[:10]\n",
    "    date = pd.to_datetime(date)\n",
    "    TF = nc.split('_')[6]\n",
    "    urel_val = nc.split('_')[-1].split('.')[1]\n",
    "    \n",
    "    percentage = Qib_val/dQ_dt_dict[TF]\n",
    "    print(f'coeff 1: {percentage:.2f}')\n",
    "    print(f'{date}')\n",
    "    coef_1_dict['date'] = date\n",
    "    coef_1_dict['coeff'] = 1\n",
    "    coef_1_dict['urel'] = urels_dict[urel_val]\n",
    "    coef_1_dict['tf'] = TF_dict[TF]\n",
    "    coef_1_dict['dt'] = 50\n",
    "    coef_1_dict['Qib'] = (Qib_val/1e11)\n",
    "    coef_1_dict['Qaww'] = (dQ_dt_dict[TF])\n",
    "    coef_1_dict['melt_rate_avg_m3s'] = Qib.melt_rate_avg.data\n",
    "    coef_1_dict['melt_rate_mday'] = Qib.melt_rate_intergrated.data\n",
    "    \n",
    "    coef_1_dict['percentage'] = f'{(Qib_val/dQ_dt_dict[TF])*100:.2f}'\n",
    "    \n",
    "    series = pd.Series(coef_1_dict)\n",
    "    series_list1.append(series)\n",
    "\n",
    "df_1 = pd.DataFrame(series_list1, columns=cols)   \n",
    "os.chdir(coeff_4_path)\n",
    "\n",
    "coef_4_dict = {}\n",
    "series_list4 = []\n",
    "for i,nc in enumerate(coeff_4_list):\n",
    "    \n",
    "    Qib = xr.open_dataset(nc)\n",
    "    Qib_val = Qib.Qib.data\n",
    "    date = nc[:10]\n",
    "    date = pd.to_datetime(date)\n",
    "    TF_4 = nc.split('_')[6]\n",
    "    urel_val = nc.split('_')[-1].split('.')[1]\n",
    "    \n",
    "    percentage = Qib_val/dQ_dt_dict[TF]\n",
    "    print(f'coeff 4: {percentage:.2f}')\n",
    "    print(f'{TF}')\n",
    "    coef_4_dict['date'] = date\n",
    "    coef_4_dict['coeff'] = 4\n",
    "    coef_4_dict['urel'] = urels_dict[urel_val]\n",
    "    coef_4_dict['tf'] = TF_dict[TF_4]\n",
    "    coef_4_dict['dt'] = 50\n",
    "    # coef_4_dict['Qib'] = f'{(Qib_val/1e11):.2f}'\n",
    "    coef_4_dict['Qib'] = (Qib_val/1e11)\n",
    "    coef_4_dict['Qaww'] = (dQ_dt_dict[TF_4]/1e11)\n",
    "    coef_4_dict['melt_rate_avg_m3s'] = Qib.melt_rate_avg.data\n",
    "    coef_4_dict['melt_rate_mday'] = Qib.melt_rate_intergrated.data\n",
    "\n",
    "    \n",
    "    coef_4_dict['percentage'] = f'{(Qib_val/dQ_dt_dict[TF])*100:.2f}'\n",
    "    \n",
    "    series4 = pd.Series(coef_4_dict)\n",
    "    series_list4.append(series4)\n",
    "    \n",
    "\n",
    "\n",
    "df_1 = pd.DataFrame(series_list1, columns=cols)\n",
    "df_4 = pd.DataFrame(series_list4, columns=cols)\n",
    "\n",
    "df_concat = pd.concat([df_1, df_4],ignore_index=True)\n"
   ]
  },
  {
   "cell_type": "code",
   "execution_count": 15,
   "id": "08e74c85-e501-42b7-949d-c5706a3e66a5",
   "metadata": {},
   "outputs": [
    {
     "ename": "NameError",
     "evalue": "name 'df_concat' is not defined",
     "output_type": "error",
     "traceback": [
      "\u001b[0;31m---------------------------------------------------------------------------\u001b[0m",
      "\u001b[0;31mNameError\u001b[0m                                 Traceback (most recent call last)",
      "Cell \u001b[0;32mIn[15], line 1\u001b[0m\n\u001b[0;32m----> 1\u001b[0m \u001b[43mdf_concat\u001b[49m\n",
      "\u001b[0;31mNameError\u001b[0m: name 'df_concat' is not defined"
     ]
    }
   ],
   "source": [
    "df_concat"
   ]
  },
  {
   "cell_type": "code",
   "execution_count": 16,
   "id": "5bf49f8c-a1ed-47b6-9802-9a002390b48f",
   "metadata": {},
   "outputs": [
    {
     "ename": "NameError",
     "evalue": "name 'df_concat' is not defined",
     "output_type": "error",
     "traceback": [
      "\u001b[0;31m---------------------------------------------------------------------------\u001b[0m",
      "\u001b[0;31mNameError\u001b[0m                                 Traceback (most recent call last)",
      "Cell \u001b[0;32mIn[16], line 1\u001b[0m\n\u001b[0;32m----> 1\u001b[0m c4 \u001b[38;5;241m=\u001b[39m \u001b[43mdf_concat\u001b[49m[\u001b[38;5;124m'\u001b[39m\u001b[38;5;124mcoeff\u001b[39m\u001b[38;5;124m'\u001b[39m]\u001b[38;5;241m==\u001b[39m\u001b[38;5;241m4\u001b[39m\n\u001b[1;32m      2\u001b[0m df_concat\u001b[38;5;241m.\u001b[39mloc[c4][\u001b[38;5;124m'\u001b[39m\u001b[38;5;124mmelt_rate_avg_m3s\u001b[39m\u001b[38;5;124m'\u001b[39m]\u001b[38;5;241m.\u001b[39mmean()\n",
      "\u001b[0;31mNameError\u001b[0m: name 'df_concat' is not defined"
     ]
    }
   ],
   "source": [
    "c4 = df_concat['coeff']==4\n",
    "df_concat.loc[c4]['melt_rate_avg_m3s'].mean()"
   ]
  },
  {
   "cell_type": "code",
   "execution_count": 17,
   "id": "60d01433-7590-4883-81c0-fb9654fb9615",
   "metadata": {},
   "outputs": [
    {
     "ename": "NameError",
     "evalue": "name 'df_concat' is not defined",
     "output_type": "error",
     "traceback": [
      "\u001b[0;31m---------------------------------------------------------------------------\u001b[0m",
      "\u001b[0;31mNameError\u001b[0m                                 Traceback (most recent call last)",
      "Cell \u001b[0;32mIn[17], line 1\u001b[0m\n\u001b[0;32m----> 1\u001b[0m c1 \u001b[38;5;241m=\u001b[39m \u001b[43mdf_concat\u001b[49m[\u001b[38;5;124m'\u001b[39m\u001b[38;5;124mcoeff\u001b[39m\u001b[38;5;124m'\u001b[39m]\u001b[38;5;241m==\u001b[39m\u001b[38;5;241m1\u001b[39m\n\u001b[1;32m      2\u001b[0m df_concat\u001b[38;5;241m.\u001b[39mloc[c1][\u001b[38;5;124m'\u001b[39m\u001b[38;5;124mmelt_rate_avg_m3s\u001b[39m\u001b[38;5;124m'\u001b[39m]\u001b[38;5;241m.\u001b[39mmean()\n",
      "\u001b[0;31mNameError\u001b[0m: name 'df_concat' is not defined"
     ]
    }
   ],
   "source": [
    "c1 = df_concat['coeff']==1\n",
    "df_concat.loc[c1]['melt_rate_avg_m3s'].mean()"
   ]
  },
  {
   "cell_type": "code",
   "execution_count": 18,
   "id": "d98fc308-722a-4ad4-8094-d203aa0a912c",
   "metadata": {},
   "outputs": [
    {
     "ename": "NameError",
     "evalue": "name 'df_concat' is not defined",
     "output_type": "error",
     "traceback": [
      "\u001b[0;31m---------------------------------------------------------------------------\u001b[0m",
      "\u001b[0;31mNameError\u001b[0m                                 Traceback (most recent call last)",
      "Cell \u001b[0;32mIn[18], line 1\u001b[0m\n\u001b[0;32m----> 1\u001b[0m \u001b[43mdf_concat\u001b[49m\u001b[38;5;241m.\u001b[39mloc[c4][\u001b[38;5;124m'\u001b[39m\u001b[38;5;124mQib\u001b[39m\u001b[38;5;124m'\u001b[39m]\u001b[38;5;241m.\u001b[39mmean()\n",
      "\u001b[0;31mNameError\u001b[0m: name 'df_concat' is not defined"
     ]
    }
   ],
   "source": [
    "df_concat.loc[c4]['Qib'].mean()"
   ]
  },
  {
   "cell_type": "code",
   "execution_count": 19,
   "id": "b6809d8b-7c16-4d8e-83da-d340a6650074",
   "metadata": {},
   "outputs": [
    {
     "ename": "NameError",
     "evalue": "name 'df_concat' is not defined",
     "output_type": "error",
     "traceback": [
      "\u001b[0;31m---------------------------------------------------------------------------\u001b[0m",
      "\u001b[0;31mNameError\u001b[0m                                 Traceback (most recent call last)",
      "Cell \u001b[0;32mIn[19], line 1\u001b[0m\n\u001b[0;32m----> 1\u001b[0m \u001b[43mdf_concat\u001b[49m\u001b[38;5;241m.\u001b[39mloc[c1][\u001b[38;5;124m'\u001b[39m\u001b[38;5;124mQib\u001b[39m\u001b[38;5;124m'\u001b[39m]\u001b[38;5;241m.\u001b[39mmean()\n",
      "\u001b[0;31mNameError\u001b[0m: name 'df_concat' is not defined"
     ]
    }
   ],
   "source": [
    "df_concat.loc[c1]['Qib'].mean()"
   ]
  },
  {
   "cell_type": "code",
   "execution_count": 20,
   "id": "05a9eab1-cbc5-4b6e-ad0b-1ee8a50eb47b",
   "metadata": {},
   "outputs": [
    {
     "ename": "NameError",
     "evalue": "name 'df_concat' is not defined",
     "output_type": "error",
     "traceback": [
      "\u001b[0;31m---------------------------------------------------------------------------\u001b[0m",
      "\u001b[0;31mNameError\u001b[0m                                 Traceback (most recent call last)",
      "Cell \u001b[0;32mIn[20], line 1\u001b[0m\n\u001b[0;32m----> 1\u001b[0m c4_urel05 \u001b[38;5;241m=\u001b[39m (\u001b[43mdf_concat\u001b[49m[\u001b[38;5;124m'\u001b[39m\u001b[38;5;124mcoeff\u001b[39m\u001b[38;5;124m'\u001b[39m]\u001b[38;5;241m==\u001b[39m\u001b[38;5;241m4\u001b[39m) \u001b[38;5;241m&\u001b[39m (df_concat[\u001b[38;5;124m'\u001b[39m\u001b[38;5;124murel\u001b[39m\u001b[38;5;124m'\u001b[39m] \u001b[38;5;241m==\u001b[39m \u001b[38;5;241m0.05\u001b[39m)\n\u001b[1;32m      2\u001b[0m df_concat\u001b[38;5;241m.\u001b[39mloc[c4_urel05][\u001b[38;5;124m'\u001b[39m\u001b[38;5;124mQib\u001b[39m\u001b[38;5;124m'\u001b[39m]\u001b[38;5;241m.\u001b[39mmean()\n",
      "\u001b[0;31mNameError\u001b[0m: name 'df_concat' is not defined"
     ]
    }
   ],
   "source": [
    "c4_urel05 = (df_concat['coeff']==4) & (df_concat['urel'] == 0.05)\n",
    "df_concat.loc[c4_urel05]['Qib'].mean()"
   ]
  },
  {
   "cell_type": "code",
   "execution_count": null,
   "id": "638d31c4-d31a-4ecf-a101-1cb01f38c6ba",
   "metadata": {},
   "outputs": [],
   "source": []
  }
 ],
 "metadata": {
  "kernelspec": {
   "display_name": "Python 3 (ipykernel)",
   "language": "python",
   "name": "python3"
  },
  "language_info": {
   "codemirror_mode": {
    "name": "ipython",
    "version": 3
   },
   "file_extension": ".py",
   "mimetype": "text/x-python",
   "name": "python",
   "nbconvert_exporter": "python",
   "pygments_lexer": "ipython3",
   "version": "3.10.13"
  }
 },
 "nbformat": 4,
 "nbformat_minor": 5
}
